{
  "nbformat": 4,
  "nbformat_minor": 0,
  "metadata": {
    "colab": {
      "name": "basic_operations.ipynb",
      "provenance": [],
      "collapsed_sections": [],
      "authorship_tag": "ABX9TyMw/gV4+NSBSh7QmsdoK7Cx",
      "include_colab_link": true
    },
    "kernelspec": {
      "name": "python3",
      "display_name": "Python 3"
    },
    "language_info": {
      "name": "python"
    }
  },
  "cells": [
    {
      "cell_type": "markdown",
      "metadata": {
        "id": "view-in-github",
        "colab_type": "text"
      },
      "source": [
        "<a href=\"https://colab.research.google.com/github/lakshmisivareddy/colab/blob/main/basic_operations.ipynb\" target=\"_parent\"><img src=\"https://colab.research.google.com/assets/colab-badge.svg\" alt=\"Open In Colab\"/></a>"
      ]
    },
    {
      "cell_type": "code",
      "metadata": {
        "id": "RrUcS4q7YCjr"
      },
      "source": [
        "import tensorflow as tf"
      ],
      "execution_count": 1,
      "outputs": []
    },
    {
      "cell_type": "code",
      "metadata": {
        "id": "eQKWBzlMYXCh"
      },
      "source": [
        "a=tf.constant(2)\n",
        "b=tf.constant(3)\n",
        "c=tf.constant(4)\n"
      ],
      "execution_count": 2,
      "outputs": []
    },
    {
      "cell_type": "code",
      "metadata": {
        "colab": {
          "base_uri": "https://localhost:8080/"
        },
        "id": "ku5GbyyoYyyl",
        "outputId": "85852caa-7362-4268-bee0-ce890b85b2b0"
      },
      "source": [
        "add=tf.add(a,b)\n",
        "sub=tf.subtract(b,c)\n",
        "mul=tf.multiply(a,c)\n",
        "div=tf.divide(b,c)\n",
        "print('add',add.numpy())\n",
        "print('sub',sub.numpy())\n",
        "print('mul',mul.numpy())\n",
        "print('div',div.numpy())"
      ],
      "execution_count": 3,
      "outputs": [
        {
          "output_type": "stream",
          "text": [
            "add 5\n",
            "sub -1\n",
            "mul 8\n",
            "div 0.75\n"
          ],
          "name": "stdout"
        }
      ]
    },
    {
      "cell_type": "code",
      "metadata": {
        "colab": {
          "base_uri": "https://localhost:8080/"
        },
        "id": "MFypo9avZjiE",
        "outputId": "70578993-9066-4300-d870-5dcddc9266c6"
      },
      "source": [
        "mean=tf.reduce_mean([a,b,c])\n",
        "sum=tf.reduce_sum([a,b,c])\n",
        "max=tf.reduce_max([a,b,c])\n",
        "min=tf.reduce_min([a,b,c])\n",
        "prod=tf.reduce_prod([a,b,c])\n",
        "print('mean',mean.numpy())\n",
        "print('sum',sum.numpy())\n",
        "print('max',max.numpy())\n",
        "print('min',min.numpy())\n",
        "print('prod',prod.numpy())"
      ],
      "execution_count": 4,
      "outputs": [
        {
          "output_type": "stream",
          "text": [
            "mean 3\n",
            "sum 9\n",
            "max 4\n",
            "min 2\n",
            "prod 24\n"
          ],
          "name": "stdout"
        }
      ]
    }
  ]
}
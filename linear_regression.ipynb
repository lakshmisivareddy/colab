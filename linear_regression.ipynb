{
  "nbformat": 4,
  "nbformat_minor": 0,
  "metadata": {
    "colab": {
      "name": "linear_regression.ipynb",
      "provenance": [],
      "collapsed_sections": [],
      "authorship_tag": "ABX9TyNUulreLRCLilrad3FtWBGo",
      "include_colab_link": true
    },
    "kernelspec": {
      "name": "python3",
      "display_name": "Python 3"
    },
    "language_info": {
      "name": "python"
    }
  },
  "cells": [
    {
      "cell_type": "markdown",
      "metadata": {
        "id": "view-in-github",
        "colab_type": "text"
      },
      "source": [
        "<a href=\"https://colab.research.google.com/github/lakshmisivareddy/colab/blob/main/linear_regression.ipynb\" target=\"_parent\"><img src=\"https://colab.research.google.com/assets/colab-badge.svg\" alt=\"Open In Colab\"/></a>"
      ]
    },
    {
      "cell_type": "markdown",
      "metadata": {
        "id": "tndTaHJ801AW"
      },
      "source": [
        ""
      ]
    },
    {
      "cell_type": "code",
      "metadata": {
        "id": "FUs6Apdgb2FF",
        "colab": {
          "base_uri": "https://localhost:8080/"
        },
        "outputId": "7846e9de-a938-4e08-a069-5b01f18c0d72"
      },
      "source": [
        "import tensorflow as tf\n",
        "import numpy as np\n",
        "rng = np.random\n",
        "print(tf.version.VERSION)\n",
        "#from google.colab import  drive\n",
        "#drive.mount('/content/gdrive')"
      ],
      "execution_count": null,
      "outputs": [
        {
          "output_type": "stream",
          "text": [
            "2.5.0\n"
          ],
          "name": "stdout"
        }
      ]
    },
    {
      "cell_type": "code",
      "metadata": {
        "id": "ahaE8T-roPbf"
      },
      "source": [
        "# Parameters.\n",
        "learning_rate = 0.01\n",
        "training_steps = 1000\n",
        "display_step = 50"
      ],
      "execution_count": null,
      "outputs": []
    },
    {
      "cell_type": "code",
      "metadata": {
        "colab": {
          "base_uri": "https://localhost:8080/"
        },
        "id": "B9ZCfv9EoZPR",
        "outputId": "a4f2536a-f284-4b58-ed2b-6dfd6d2824da"
      },
      "source": [
        "\n",
        "# Training Data.\n",
        "X = np.array([3.3,4.4,5.5,6.71,6.93,4.168,9.779,6.182,7.59,2.167,\n",
        "              7.042,10.791,5.313,7.997,5.654,9.27,3.1])\n",
        "Y = np.array([1.7,2.76,2.09,3.19,1.694,1.573,3.366,2.596,2.53,1.221,\n",
        "              2.827,3.465,1.65,2.904,2.42,2.94,1.3])\n",
        "print(X.shape,Y.shape)"
      ],
      "execution_count": null,
      "outputs": [
        {
          "output_type": "stream",
          "text": [
            "(17,) (17,)\n"
          ],
          "name": "stdout"
        }
      ]
    },
    {
      "cell_type": "code",
      "metadata": {
        "id": "oWyqa3rQopUN"
      },
      "source": [
        "m=tf.Variable(rng.random(),name=\"weight\")\n",
        "c=tf.Variable(rng.random(),name=\"bias\")\n",
        "\n",
        "def liner_regression(x):\n",
        "  return m*x+c\n",
        "\n",
        "def mean_sqare_error(y_pred,y_true):\n",
        "  return tf.reduce_mean(tf.square(y_pred-y_true))\n",
        "\n",
        "optimiser=tf.optimizers.SGD(learning_rate)"
      ],
      "execution_count": null,
      "outputs": []
    },
    {
      "cell_type": "code",
      "metadata": {
        "id": "q7Rn6_d0p44a"
      },
      "source": [
        "def run_optimization():\n",
        "  with tf.GradientTape() as g:\n",
        "    pred=liner_regression(X)\n",
        "    loss=mean_sqare_error(pred,Y)\n",
        "\n",
        "  gradients=g.gradient(loss,[m,c])\n",
        "  optimiser.apply_gradients(zip(gradients,[m,c]))"
      ],
      "execution_count": null,
      "outputs": []
    },
    {
      "cell_type": "code",
      "metadata": {
        "colab": {
          "base_uri": "https://localhost:8080/"
        },
        "id": "ILeZPvU7q-40",
        "outputId": "edfdcfd6-9c67-4ac5-ebc6-e451a57e043b"
      },
      "source": [
        "\n",
        "for step in range(1,training_steps+1):\n",
        "  run_optimization()\n",
        "  if step%display_step ==0:\n",
        "     pred = liner_regression(X)\n",
        "     loss = mean_sqare_error(pred, Y)\n",
        "     print(\"step: %i, loss: %f, W: %f, b: %f\" % (step, loss, w.numpy(), b.numpy()))"
      ],
      "execution_count": null,
      "outputs": [
        {
          "output_type": "stream",
          "text": [
            "step: 50, loss: 0.153939, W: 0.260418, b: 0.736534\n",
            "step: 100, loss: 0.153921, W: 0.260418, b: 0.736534\n",
            "step: 150, loss: 0.153907, W: 0.260418, b: 0.736534\n",
            "step: 200, loss: 0.153897, W: 0.260418, b: 0.736534\n",
            "step: 250, loss: 0.153888, W: 0.260418, b: 0.736534\n",
            "step: 300, loss: 0.153882, W: 0.260418, b: 0.736534\n",
            "step: 350, loss: 0.153876, W: 0.260418, b: 0.736534\n",
            "step: 400, loss: 0.153872, W: 0.260418, b: 0.736534\n",
            "step: 450, loss: 0.153869, W: 0.260418, b: 0.736534\n",
            "step: 500, loss: 0.153867, W: 0.260418, b: 0.736534\n",
            "step: 550, loss: 0.153865, W: 0.260418, b: 0.736534\n",
            "step: 600, loss: 0.153863, W: 0.260418, b: 0.736534\n",
            "step: 650, loss: 0.153862, W: 0.260418, b: 0.736534\n",
            "step: 700, loss: 0.153861, W: 0.260418, b: 0.736534\n",
            "step: 750, loss: 0.153860, W: 0.260418, b: 0.736534\n",
            "step: 800, loss: 0.153860, W: 0.260418, b: 0.736534\n",
            "step: 850, loss: 0.153859, W: 0.260418, b: 0.736534\n",
            "step: 900, loss: 0.153859, W: 0.260418, b: 0.736534\n",
            "step: 950, loss: 0.153859, W: 0.260418, b: 0.736534\n",
            "step: 1000, loss: 0.153858, W: 0.260418, b: 0.736534\n"
          ],
          "name": "stdout"
        }
      ]
    },
    {
      "cell_type": "code",
      "metadata": {
        "id": "uyLvCKoXr2Ln"
      },
      "source": [
        "\n",
        "import matplotlib.pyplot as plt"
      ],
      "execution_count": null,
      "outputs": []
    },
    {
      "cell_type": "code",
      "metadata": {
        "colab": {
          "base_uri": "https://localhost:8080/",
          "height": 282
        },
        "id": "6nExEG1Wr55x",
        "outputId": "73f3bbb2-6f7a-48f6-ca45-567efabccd0a"
      },
      "source": [
        "plt.plot(X, Y, 'ro', label='Original data')\n",
        "plt.plot(X, np.array(m * X + c), label='Fitted line')\n",
        "plt.legend()"
      ],
      "execution_count": null,
      "outputs": [
        {
          "output_type": "execute_result",
          "data": {
            "text/plain": [
              "<matplotlib.legend.Legend at 0x7f04f02d5e90>"
            ]
          },
          "metadata": {
            "tags": []
          },
          "execution_count": 71
        },
        {
          "output_type": "display_data",
          "data": {
            "image/png": "[encoded data removed]",
            "text/plain": [
              "<Figure size 432x288 with 1 Axes>"
            ]
          },
          "metadata": {
            "tags": [],
            "needs_background": "light"
          }
        }
      ]
    },
    {
      "cell_type": "code",
      "metadata": {
        "colab": {
          "base_uri": "https://localhost:8080/"
        },
        "id": "gc-2qdMo1_Ai",
        "outputId": "e3388015-e873-4e3a-ce8e-07151fa04380"
      },
      "source": [
        "def getValue(x):\n",
        "  return m*x+c\n",
        "test1=np.array([20])\n",
        "print(getValue(test1))"
      ],
      "execution_count": null,
      "outputs": [
        {
          "output_type": "stream",
          "text": [
            "tf.Tensor([5.8268743], shape=(1,), dtype=float32)\n"
          ],
          "name": "stdout"
        }
      ]
    }
  ]
}
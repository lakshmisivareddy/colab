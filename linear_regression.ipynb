{
  "nbformat": 4,
  "nbformat_minor": 0,
  "metadata": {
    "colab": {
      "name": "linear_regression.ipynb",
      "provenance": [],
      "collapsed_sections": [],
      "authorship_tag": "ABX9TyO9zmBe7R3Qy+VynY7L5+zW",
      "include_colab_link": true
    },
    "kernelspec": {
      "name": "python3",
      "display_name": "Python 3"
    },
    "language_info": {
      "name": "python"
    }
  },
  "cells": [
    {
      "cell_type": "markdown",
      "metadata": {
        "id": "view-in-github",
        "colab_type": "text"
      },
      "source": [
        "<a href=\"https://colab.research.google.com/github/lakshmisivareddy/colab/blob/main/linear_regression.ipynb\" target=\"_parent\"><img src=\"https://colab.research.google.com/assets/colab-badge.svg\" alt=\"Open In Colab\"/></a>"
      ]
    },
    {
      "cell_type": "markdown",
      "metadata": {
        "id": "tndTaHJ801AW"
      },
      "source": [
        ""
      ]
    },
    {
      "cell_type": "code",
      "metadata": {
        "id": "FUs6Apdgb2FF",
        "colab": {
          "base_uri": "https://localhost:8080/"
        },
        "outputId": "beebbb43-0ab9-4196-f3fd-199fce2b30c9"
      },
      "source": [
        "import tensorflow as tf\n",
        "import numpy as np\n",
        "rng = np.random\n",
        "print(tf.version.VERSION)\n",
        "#from google.colab import  drive\n",
        "#drive.mount('/content/gdrive')"
      ],
      "execution_count": 19,
      "outputs": [
        {
          "output_type": "stream",
          "text": [
            "2.5.0\n"
          ],
          "name": "stdout"
        }
      ]
    },
    {
      "cell_type": "code",
      "metadata": {
        "id": "ahaE8T-roPbf"
      },
      "source": [
        "# Parameters.\n",
        "learning_rate = 0.01\n",
        "training_steps = 1000\n",
        "display_step = 50"
      ],
      "execution_count": 20,
      "outputs": []
    },
    {
      "cell_type": "code",
      "metadata": {
        "colab": {
          "base_uri": "https://localhost:8080/"
        },
        "id": "B9ZCfv9EoZPR",
        "outputId": "bff14759-b59c-4e0a-a6aa-0752b941ccb8"
      },
      "source": [
        "\n",
        "# Training Data.\n",
        "X = np.array([3.3,4.4,5.5,6.71,6.93,4.168,9.779,6.182,7.59,2.167,\n",
        "              7.042,10.791,5.313,7.997,5.654,9.27,3.1])\n",
        "Y = np.array([1.7,2.76,2.09,3.19,1.694,1.573,3.366,2.596,2.53,1.221,\n",
        "              2.827,3.465,1.65,2.904,2.42,2.94,1.3])\n",
        "print(X.shape,Y.shape)"
      ],
      "execution_count": 21,
      "outputs": [
        {
          "output_type": "stream",
          "text": [
            "(17,) (17,)\n"
          ],
          "name": "stdout"
        }
      ]
    },
    {
      "cell_type": "code",
      "metadata": {
        "id": "oWyqa3rQopUN"
      },
      "source": [
        "m=tf.Variable(rng.random(),name=\"weight\")\n",
        "c=tf.Variable(rng.random(),name=\"bias\")\n",
        "#model = tf.keras.Sequential()\n",
        "def liner_regression(x):\n",
        "  return m*x+c\n",
        "\n",
        "def mean_sqare_error(y_pred,y_true):\n",
        "  return tf.reduce_mean(tf.square(y_pred-y_true))\n",
        "\n",
        "optimiser=tf.optimizers.SGD(learning_rate)"
      ],
      "execution_count": 22,
      "outputs": []
    },
    {
      "cell_type": "code",
      "metadata": {
        "id": "q7Rn6_d0p44a"
      },
      "source": [
        "def run_optimization():\n",
        "  with tf.GradientTape() as g:\n",
        "    pred=liner_regression(X)\n",
        "    loss=mean_sqare_error(pred,Y)\n",
        "\n",
        "  gradients=g.gradient(loss,[m,c])\n",
        "  optimiser.apply_gradients(zip(gradients,[m,c]))"
      ],
      "execution_count": 23,
      "outputs": []
    },
    {
      "cell_type": "code",
      "metadata": {
        "colab": {
          "base_uri": "https://localhost:8080/"
        },
        "id": "ILeZPvU7q-40",
        "outputId": "286039b9-8702-4eb5-f220-b49937aefdb5"
      },
      "source": [
        "\n",
        "for step in range(1,training_steps+1):\n",
        "  run_optimization()\n",
        "  if step%display_step ==0:\n",
        "     pred = liner_regression(X)\n",
        "     loss = mean_sqare_error(pred, Y)\n",
        "     print(\"step: %i, loss: %f, W: %f, b: %f\" % (step, loss, m.numpy(), c.numpy()))"
      ],
      "execution_count": 24,
      "outputs": [
        {
          "output_type": "stream",
          "text": [
            "step: 50, loss: 0.155291, W: 0.236456, b: 0.906416\n",
            "step: 100, loss: 0.154982, W: 0.238193, b: 0.894101\n",
            "step: 150, loss: 0.154739, W: 0.239731, b: 0.883196\n",
            "step: 200, loss: 0.154549, W: 0.241093, b: 0.873538\n",
            "step: 250, loss: 0.154400, W: 0.242299, b: 0.864985\n",
            "step: 300, loss: 0.154283, W: 0.243368, b: 0.857411\n",
            "step: 350, loss: 0.154191, W: 0.244314, b: 0.850704\n",
            "step: 400, loss: 0.154119, W: 0.245152, b: 0.844765\n",
            "step: 450, loss: 0.154063, W: 0.245894, b: 0.839505\n",
            "step: 500, loss: 0.154019, W: 0.246551, b: 0.834847\n",
            "step: 550, loss: 0.153984, W: 0.247132, b: 0.830722\n",
            "step: 600, loss: 0.153957, W: 0.247648, b: 0.827069\n",
            "step: 650, loss: 0.153935, W: 0.248104, b: 0.823834\n",
            "step: 700, loss: 0.153919, W: 0.248508, b: 0.820970\n",
            "step: 750, loss: 0.153905, W: 0.248866, b: 0.818433\n",
            "step: 800, loss: 0.153895, W: 0.249183, b: 0.816186\n",
            "step: 850, loss: 0.153887, W: 0.249463, b: 0.814197\n",
            "step: 900, loss: 0.153881, W: 0.249712, b: 0.812435\n",
            "step: 950, loss: 0.153876, W: 0.249932, b: 0.810875\n",
            "step: 1000, loss: 0.153872, W: 0.250127, b: 0.809493\n"
          ],
          "name": "stdout"
        }
      ]
    },
    {
      "cell_type": "code",
      "metadata": {
        "id": "uyLvCKoXr2Ln"
      },
      "source": [
        "\n",
        "import matplotlib.pyplot as plt"
      ],
      "execution_count": 25,
      "outputs": []
    },
    {
      "cell_type": "code",
      "metadata": {
        "colab": {
          "base_uri": "https://localhost:8080/",
          "height": 282
        },
        "id": "6nExEG1Wr55x",
        "outputId": "b1dc251d-e9fb-4f20-f2b5-bcf6991d03d8"
      },
      "source": [
        "plt.plot(X, Y, 'ro', label='Original data')\n",
        "plt.plot(X, np.array(m * X + c), label='Fitted line')\n",
        "plt.legend()"
      ],
      "execution_count": 26,
      "outputs": [
        {
          "output_type": "execute_result",
          "data": {
            "text/plain": [
              "<matplotlib.legend.Legend at 0x7f8df29355d0>"
            ]
          },
          "metadata": {
            "tags": []
          },
          "execution_count": 26
        },
        {
          "output_type": "display_data",
          "data": {
            "image/png": "[encoded data removed]",
            "text/plain": [
              "<Figure size 432x288 with 1 Axes>"
            ]
          },
          "metadata": {
            "tags": [],
            "needs_background": "light"
          }
        }
      ]
    },
    {
      "cell_type": "code",
      "metadata": {
        "colab": {
          "base_uri": "https://localhost:8080/"
        },
        "id": "gc-2qdMo1_Ai",
        "outputId": "a13d26be-c54b-4693-b9be-c5f29ace0933"
      },
      "source": [
        "def getValue(x):\n",
        "  return m*x+c\n",
        "test1=np.array([20])\n",
        "print(getValue(test1))"
      ],
      "execution_count": 27,
      "outputs": [
        {
          "output_type": "stream",
          "text": [
            "tf.Tensor([5.8120294], shape=(1,), dtype=float32)\n"
          ],
          "name": "stdout"
        }
      ]
    }
  ]
}
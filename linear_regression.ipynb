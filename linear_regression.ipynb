{
  "nbformat": 4,
  "nbformat_minor": 0,
  "metadata": {
    "colab": {
      "name": "linear_regression.ipynb",
      "provenance": [],
      "collapsed_sections": [],
      "authorship_tag": "ABX9TyPPM21KTWCEM7rfnj0F1BrX",
      "include_colab_link": true
    },
    "kernelspec": {
      "name": "python3",
      "display_name": "Python 3"
    },
    "language_info": {
      "name": "python"
    }
  },
  "cells": [
    {
      "cell_type": "markdown",
      "metadata": {
        "id": "view-in-github",
        "colab_type": "text"
      },
      "source": [
        "<a href=\"https://colab.research.google.com/github/lakshmisivareddy/colab/blob/main/linear_regression.ipynb\" target=\"_parent\"><img src=\"https://colab.research.google.com/assets/colab-badge.svg\" alt=\"Open In Colab\"/></a>"
      ]
    },
    {
      "cell_type": "code",
      "metadata": {
        "id": "FUs6Apdgb2FF"
      },
      "source": [
        "import tensorflow as tf\n",
        "import numpy as np\n",
        "rng = np.random"
      ],
      "execution_count": 11,
      "outputs": []
    },
    {
      "cell_type": "code",
      "metadata": {
        "id": "ahaE8T-roPbf"
      },
      "source": [
        "# Parameters.\n",
        "learning_rate = 0.01\n",
        "training_steps = 1000\n",
        "display_step = 50"
      ],
      "execution_count": 12,
      "outputs": []
    },
    {
      "cell_type": "code",
      "metadata": {
        "colab": {
          "base_uri": "https://localhost:8080/"
        },
        "id": "B9ZCfv9EoZPR",
        "outputId": "93a0b210-000d-4617-b387-dfb0a8faade5"
      },
      "source": [
        "\n",
        "# Training Data.\n",
        "X = np.array([3.3,4.4,5.5,6.71,6.93,4.168,9.779,6.182,7.59,2.167,\n",
        "              7.042,10.791,5.313,7.997,5.654,9.27,3.1])\n",
        "Y = np.array([1.7,2.76,2.09,3.19,1.694,1.573,3.366,2.596,2.53,1.221,\n",
        "              2.827,3.465,1.65,2.904,2.42,2.94,1.3])\n",
        "print(X.shape,Y.shape)"
      ],
      "execution_count": 17,
      "outputs": [
        {
          "output_type": "stream",
          "text": [
            "(17,) (17,)\n"
          ],
          "name": "stdout"
        }
      ]
    },
    {
      "cell_type": "code",
      "metadata": {
        "id": "oWyqa3rQopUN"
      },
      "source": [
        "w=tf.Variable(rng.random(),name=\"weight\")\n",
        "b=tf.Variable(rng.random(),name=\"bias\")\n",
        "\n",
        "def liner_regression(x):\n",
        "  return w*x+b\n",
        "\n",
        "def mean_sqare_error(y_pred,y_true):\n",
        "  return tf.reduce_mean(tf.square(y_pred-y_true))\n",
        "\n",
        "optimiser=tf.optimizers.SGD(learning_rate)"
      ],
      "execution_count": 19,
      "outputs": []
    },
    {
      "cell_type": "code",
      "metadata": {
        "id": "q7Rn6_d0p44a"
      },
      "source": [
        "def run_optimization():\n",
        "  with tf.GradientTape() as g:\n",
        "    pred=liner_regression(X)\n",
        "    loss=mean_sqare_error(pred,Y)\n",
        "\n",
        "  gradients=g.gradient(loss,[w,b])\n",
        "  optimiser.apply_gradients(zip(gradients,[w,b]))"
      ],
      "execution_count": 23,
      "outputs": []
    },
    {
      "cell_type": "code",
      "metadata": {
        "colab": {
          "base_uri": "https://localhost:8080/"
        },
        "id": "ILeZPvU7q-40",
        "outputId": "ec9f3ea2-02b9-4b9d-ee7e-e98c80f37455"
      },
      "source": [
        "for step in range(1,training_steps+1):\n",
        "  run_optimization()\n",
        "  if step%display_step ==0:\n",
        "     pred = liner_regression(X)\n",
        "     loss = mean_sqare_error(pred, Y)\n",
        "     print(\"step: %i, loss: %f, W: %f, b: %f\" % (step, loss, w.numpy(), b.numpy()))"
      ],
      "execution_count": 27,
      "outputs": [
        {
          "output_type": "stream",
          "text": [
            "step: 50, loss: 0.165315, W: 0.294546, b: 0.494581\n",
            "step: 100, loss: 0.162843, W: 0.289635, b: 0.529394\n",
            "step: 150, loss: 0.160904, W: 0.285287, b: 0.560224\n",
            "step: 200, loss: 0.159384, W: 0.281436, b: 0.587526\n",
            "step: 250, loss: 0.158191, W: 0.278026, b: 0.611704\n",
            "step: 300, loss: 0.157256, W: 0.275006, b: 0.633114\n",
            "step: 350, loss: 0.156523, W: 0.272331, b: 0.652075\n",
            "step: 400, loss: 0.155948, W: 0.269963, b: 0.668865\n",
            "step: 450, loss: 0.155497, W: 0.267865, b: 0.683734\n",
            "step: 500, loss: 0.155143, W: 0.266008, b: 0.696902\n",
            "step: 550, loss: 0.154866, W: 0.264363, b: 0.708563\n",
            "step: 600, loss: 0.154648, W: 0.262907, b: 0.718890\n",
            "step: 650, loss: 0.154478, W: 0.261617, b: 0.728034\n",
            "step: 700, loss: 0.154344, W: 0.260475, b: 0.736133\n",
            "step: 750, loss: 0.154239, W: 0.259463, b: 0.743304\n",
            "step: 800, loss: 0.154157, W: 0.258567, b: 0.749655\n",
            "step: 850, loss: 0.154092, W: 0.257774, b: 0.755279\n",
            "step: 900, loss: 0.154042, W: 0.257071, b: 0.760260\n",
            "step: 950, loss: 0.154002, W: 0.256449, b: 0.764670\n",
            "step: 1000, loss: 0.153971, W: 0.255898, b: 0.768576\n"
          ],
          "name": "stdout"
        }
      ]
    },
    {
      "cell_type": "code",
      "metadata": {
        "id": "uyLvCKoXr2Ln"
      },
      "source": [
        "\n",
        "import matplotlib.pyplot as plt"
      ],
      "execution_count": 28,
      "outputs": []
    },
    {
      "cell_type": "code",
      "metadata": {
        "colab": {
          "base_uri": "https://localhost:8080/",
          "height": 282
        },
        "id": "6nExEG1Wr55x",
        "outputId": "66ba6233-c8e1-434c-bab8-340034a454fd"
      },
      "source": [
        "plt.plot(X, Y, 'ro', label='Original data')\n",
        "plt.plot(X, np.array(w * X + b), label='Fitted line')\n",
        "plt.legend()"
      ],
      "execution_count": 31,
      "outputs": [
        {
          "output_type": "execute_result",
          "data": {
            "text/plain": [
              "<matplotlib.legend.Legend at 0x7f2e5d532910>"
            ]
          },
          "metadata": {
            "tags": []
          },
          "execution_count": 31
        },
        {
          "output_type": "display_data",
          "data": {
            "image/png": "[encoded data removed]",
            "text/plain": [
              "<Figure size 432x288 with 1 Axes>"
            ]
          },
          "metadata": {
            "tags": [],
            "needs_background": "light"
          }
        }
      ]
    }
  ]
}